{
 "cells": [
  {
   "cell_type": "markdown",
   "id": "e360fe0d",
   "metadata": {},
   "source": [
    "##### Class Balancing - Synthetic Data Generation via SMOTE"
   ]
  },
  {
   "cell_type": "code",
   "execution_count": null,
   "id": "794289d9",
   "metadata": {},
   "outputs": [],
   "source": [
    "# TODO\n"
   ]
  }
 ],
 "metadata": {
  "kernelspec": {
   "display_name": ".venv",
   "language": "python",
   "name": "python3"
  },
  "language_info": {
   "codemirror_mode": {
    "name": "ipython",
    "version": 3
   },
   "file_extension": ".py",
   "mimetype": "text/x-python",
   "name": "python",
   "nbconvert_exporter": "python",
   "pygments_lexer": "ipython3",
   "version": "3.11.9"
  }
 },
 "nbformat": 4,
 "nbformat_minor": 5
}
