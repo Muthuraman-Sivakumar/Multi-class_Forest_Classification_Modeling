{
 "cells": [
  {
   "cell_type": "markdown",
   "id": "078cfd8b",
   "metadata": {},
   "source": [
    "### Dimensionality Reduction"
   ]
  }
 ],
 "metadata": {
  "language_info": {
   "name": "python"
  }
 },
 "nbformat": 4,
 "nbformat_minor": 5
}
