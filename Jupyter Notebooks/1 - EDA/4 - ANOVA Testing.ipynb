{
 "cells": [
  {
   "cell_type": "markdown",
   "id": "c9aeb6ce",
   "metadata": {},
   "source": [
    "### ANVOA testing"
   ]
  },
  {
   "cell_type": "code",
   "execution_count": null,
   "id": "28974986",
   "metadata": {},
   "outputs": [
    {
     "name": "stdout",
     "output_type": "stream",
     "text": [
      "Training set size: 406708 (70.0%)\n",
      "Validation set size: 58101 (10.0%)\n",
      "Testing set size: 116203 (20.0%)\n"
     ]
    }
   ],
   "source": [
    "from dataset import dataset, helper\n",
    "from scipy import stats\n",
    "\n",
    "import pandas as pd\n",
    "import seaborn as sns\n",
    "import matplotlib.pyplot as plt\n",
    "import numpy as np\n",
    "import sklearn as sk\n",
    "\n",
    "d = dataset()\n",
    "df = d.get_training()\n",
    "\n",
    "h = helper()\n"
   ]
  },
  {
   "cell_type": "code",
   "execution_count": null,
   "id": "9176fa76",
   "metadata": {},
   "outputs": [],
   "source": [
    "# TODO\n"
   ]
  }
 ],
 "metadata": {
  "kernelspec": {
   "display_name": ".venv",
   "language": "python",
   "name": "python3"
  },
  "language_info": {
   "codemirror_mode": {
    "name": "ipython",
    "version": 3
   },
   "file_extension": ".py",
   "mimetype": "text/x-python",
   "name": "python",
   "nbconvert_exporter": "python",
   "pygments_lexer": "ipython3",
   "version": "3.11.9"
  }
 },
 "nbformat": 4,
 "nbformat_minor": 5
}
