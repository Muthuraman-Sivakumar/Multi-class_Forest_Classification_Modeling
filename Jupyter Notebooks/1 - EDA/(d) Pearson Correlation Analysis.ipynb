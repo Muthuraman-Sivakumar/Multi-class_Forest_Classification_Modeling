{
 "cells": [
  {
   "cell_type": "markdown",
   "id": "5bbd0d4d",
   "metadata": {},
   "source": [
    "### Pearson Correlations by Class"
   ]
  },
  {
   "cell_type": "code",
   "execution_count": null,
   "id": "8e5b804c",
   "metadata": {},
   "outputs": [],
   "source": [
    "from helper import dataset, helper\n",
    "\n",
    "import pandas as pd\n",
    "import seaborn as sns\n",
    "import matplotlib.pyplot as plt\n",
    "import numpy as np\n",
    "\n",
    "\n",
    "d = dataset()\n",
    "df = d.get_training()\n",
    "\n",
    "h = helper()\n",
    "\n",
    "\n",
    "# features related to sunlight\n",
    "sunlight = ['Aspect', 'Slope', 'Hillshade_9am', 'Hillshade_Noon', 'Hillshade_3pm']\n",
    "\n",
    "# features related to distance\n",
    "distance = ['Elevation', 'H_Dist_Roadways', 'H_Dist_Fire_Points', 'H_Dist_Hydrology', \n",
    "                'V_Dist_Hydrology']\n",
    "\n",
    "# features related to wilderness area\n",
    "wilderness = ['Wilderness_Area_0', 'Wilderness_Area_1', 'Wilderness_Area_2',\n",
    "                'Wilderness_Area_3']\n",
    "\n",
    "# features related to soil type (features 14-53)\n",
    "soil = df.columns[14:54]\n"
   ]
  },
  {
   "cell_type": "markdown",
   "id": "cc002cd1",
   "metadata": {},
   "source": [
    "### Sunlight Features"
   ]
  },
  {
   "cell_type": "code",
   "execution_count": null,
   "id": "362f1090",
   "metadata": {},
   "outputs": [],
   "source": [
    "h.get_correlation(plt, df, sunlight, sns, np, 'pearson', 'Sunlight')\n"
   ]
  },
  {
   "cell_type": "markdown",
   "id": "28a8fb29",
   "metadata": {},
   "source": [
    "### Distance Features"
   ]
  },
  {
   "cell_type": "code",
   "execution_count": null,
   "id": "c03fd434",
   "metadata": {},
   "outputs": [],
   "source": [
    "h.get_correlation(plt, df, distance, sns, np, 'pearson', 'Distance')\n"
   ]
  },
  {
   "cell_type": "markdown",
   "id": "a85dccce",
   "metadata": {},
   "source": [
    "### Sunlight and Distance Features"
   ]
  },
  {
   "cell_type": "code",
   "execution_count": null,
   "id": "fd3bc800",
   "metadata": {},
   "outputs": [],
   "source": [
    "h.get_cross_correlation(plt, df, sunlight, distance, sns, 'pearson', 'Sunlight', 'Distance')\n"
   ]
  }
 ],
 "metadata": {
  "kernelspec": {
   "display_name": ".venv",
   "language": "python",
   "name": "python3"
  },
  "language_info": {
   "codemirror_mode": {
    "name": "ipython",
    "version": 3
   },
   "file_extension": ".py",
   "mimetype": "text/x-python",
   "name": "python",
   "nbconvert_exporter": "python",
   "pygments_lexer": "ipython3",
   "version": "3.11.9"
  }
 },
 "nbformat": 4,
 "nbformat_minor": 5
}
